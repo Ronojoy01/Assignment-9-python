{
 "cells": [
  {
   "cell_type": "markdown",
   "id": "b5b8f8bf",
   "metadata": {},
   "source": [
    "Assignment 9"
   ]
  },
  {
   "cell_type": "raw",
   "id": "37fece57",
   "metadata": {},
   "source": [
    "1. To what does a relative path refer?\n",
    "Ans - Relative paths are relative to the current working directory."
   ]
  },
  {
   "cell_type": "raw",
   "id": "41614adc",
   "metadata": {},
   "source": [
    "2. What does an absolute path start with your operating system?\n",
    "Ans - Absolute paths start with the root folder, such as / or C:"
   ]
  },
  {
   "cell_type": "raw",
   "id": "b5dda51f",
   "metadata": {},
   "source": [
    "3. What do the functions os.getcwd() and os.chdir() do?\n",
    "Ans - os.getcwd (): Get the current directory. \n",
    "os.chdir (path): Change the current directory. "
   ]
  },
  {
   "cell_type": "raw",
   "id": "fd757228",
   "metadata": {},
   "source": [
    "4. What are the . and .. folders?\n",
    "Ans - The . folder is the current folder, and .. is the parent folder."
   ]
  },
  {
   "cell_type": "raw",
   "id": "11f53943",
   "metadata": {},
   "source": [
    "5. In C:\\bacon\\eggs\\spam.txt, which part is the dir name, and which part is the base name?\n",
    "Ans - C:\\bacon\\eggs is the dir name, while spam.txt is the base name"
   ]
  },
  {
   "cell_type": "raw",
   "id": "291f0082",
   "metadata": {},
   "source": [
    "6. What are the three “mode” arguments that can be passed to the open() function?\n",
    "Ans - The string 'r' for read mode, 'w' for write mode, and 'a' for append mode."
   ]
  },
  {
   "cell_type": "raw",
   "id": "68c448f4",
   "metadata": {},
   "source": [
    "7. What happens if an existing file is opened in write mode?\n",
    "Ans - An existing file opened in write mode is erased and completely overwritten."
   ]
  },
  {
   "cell_type": "raw",
   "id": "43da642b",
   "metadata": {},
   "source": [
    "8. How do you tell the difference between read() and readlines()?\n",
    "Ans - The read() method returns the file’s entire contents as a single string value. The readlines() method returns a list of strings, where each string is a line from the file’s contents."
   ]
  },
  {
   "cell_type": "raw",
   "id": "8690717e",
   "metadata": {},
   "source": [
    "9. What data structure does a shelf value resemble?\n",
    "Ans - A shelf value resembles a dictionary value; it has keys and values, along with keys() and values() methods that work similarly to the dictionary methods of the same names."
   ]
  }
 ],
 "metadata": {
  "kernelspec": {
   "display_name": "Python 3 (ipykernel)",
   "language": "python",
   "name": "python3"
  },
  "language_info": {
   "codemirror_mode": {
    "name": "ipython",
    "version": 3
   },
   "file_extension": ".py",
   "mimetype": "text/x-python",
   "name": "python",
   "nbconvert_exporter": "python",
   "pygments_lexer": "ipython3",
   "version": "3.9.7"
  }
 },
 "nbformat": 4,
 "nbformat_minor": 5
}
